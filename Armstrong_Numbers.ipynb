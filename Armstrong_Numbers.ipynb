{
 "cells": [
  {
   "cell_type": "markdown",
   "id": "b29c2f44",
   "metadata": {},
   "source": [
    "# Assignment - 10/03 (Armstrong Numbers)"
   ]
  },
  {
   "cell_type": "code",
   "execution_count": 1,
   "id": "8045c871",
   "metadata": {},
   "outputs": [
    {
     "name": "stdout",
     "output_type": "stream",
     "text": [
      "Please Enter a number :  9474\n",
      "9474 is a armstrong number\n"
     ]
    }
   ],
   "source": [
    "number=input(\"Please Enter a number :  \")\n",
    "total=0\n",
    "for i in number:\n",
    "    total +=(int(i)**len(number))\n",
    "if int(number)==total:\n",
    "    print(f\"{number} is a armstrong number\")\n",
    "else:\n",
    "    print(f\"{number} is not a armstrong number\")"
   ]
  },
  {
   "cell_type": "code",
   "execution_count": null,
   "id": "9276a506",
   "metadata": {},
   "outputs": [],
   "source": []
  }
 ],
 "metadata": {
  "kernelspec": {
   "display_name": "Python 3",
   "language": "python",
   "name": "python3"
  },
  "language_info": {
   "codemirror_mode": {
    "name": "ipython",
    "version": 3
   },
   "file_extension": ".py",
   "mimetype": "text/x-python",
   "name": "python",
   "nbconvert_exporter": "python",
   "pygments_lexer": "ipython3",
   "version": "3.8.8"
  }
 },
 "nbformat": 4,
 "nbformat_minor": 5
}
